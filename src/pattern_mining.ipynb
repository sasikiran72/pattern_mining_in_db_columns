{
  "nbformat": 4,
  "nbformat_minor": 0,
  "metadata": {
    "colab": {
      "provenance": [],
      "gpuType": "T4"
    },
    "kernelspec": {
      "name": "python3",
      "display_name": "Python 3"
    },
    "language_info": {
      "name": "python"
    },
    "accelerator": "GPU"
  },
  "cells": [
    {
      "cell_type": "code",
      "source": [
        "# Install the pyECLAT package\n",
        "!pip install pyECLAT"
      ],
      "metadata": {
        "id": "3dKMl3KRpiOk"
      },
      "execution_count": null,
      "outputs": []
    },
    {
      "cell_type": "code",
      "source": [
        "# Import necessary libraries\n",
        "import re\n",
        "import pandas as pd\n",
        "from pyECLAT import ECLAT\n",
        "\n",
        "# Read data from CSV file into a DataFrame\n",
        "data = pd.read_csv('datafiles/train.csv')\n",
        "data = data.iloc[:10]\n",
        "df = pd.DataFrame(data)\n",
        "\n",
        "# Function to extract column names from SQL queries using REGEX\n",
        "def extract_column_names(query):\n",
        "    pattern = r'SELECT\\s+(?:COUNT|MAX|MIN|AVG|SUM)?\\s*(.*?)\\s+FROM|\\b(?:WHERE|AND)\\s+(.*?)(?:\\s*=\\s*(?:\\'[^\\']*\\'|\\\"[^\\\"]*\\\"))?(?=\\s*(?:AND|ORDER BY|GROUP BY|\\Z))'\n",
        "    matches = re.findall(pattern, query, re.IGNORECASE)\n",
        "\n",
        "    column_names = []\n",
        "    for match in matches:\n",
        "        for group in match:\n",
        "            if group.strip():\n",
        "                match_obj = re.search(r\"(?:'(.*?)'|`(.*?)`|\\b(\\w+(?:\\s*[/\\-\\w]+)*)\\b)\", group.strip())\n",
        "                if match_obj:\n",
        "                    column_names.append(match_obj.group(1) or match_obj.group(2) or match_obj.group(3))\n",
        "    return list(set(column_names))\n",
        "\n",
        "# Extract column names from SQL queries in the DataFrame\n",
        "queries = df['sql']\n",
        "transactions = []\n",
        "for query in queries:\n",
        "    column_names = extract_column_names(query)\n",
        "    transactions.append(column_names)\n",
        "    # the below can be uncommented to see all the query and column names one by one\n",
        "    # if column_names:\n",
        "    #     print(f\"Column Names in Query '{query}':\", column_names)\n",
        "    # else:\n",
        "    #     print(f\"No column names found in the query: '{query}'\")\n",
        "print(transactions)\n",
        "print(\"Number of Transactions sent to the Algorithm: \", len(transactions))\n",
        "\n",
        "df_transactions = pd.DataFrame(transactions)\n",
        "#print(df_transactions)"
      ],
      "metadata": {
        "colab": {
          "base_uri": "https://localhost:8080/"
        },
        "id": "0CVB3ml6KiBt",
        "outputId": "1bdd318d-8713-4ebf-f419-dba73d7e3b52"
      },
      "execution_count": 2,
      "outputs": [
        {
          "output_type": "stream",
          "name": "stdout",
          "text": [
            "[['Current slogan', 'Notes'], ['Current series', 'Notes'], ['State/territory', 'Format'], ['State/territory', 'Text/background colour'], ['Fleet Series', 'Fuel Propulsion'], ['Fleet Series', 'Fuel Propulsion'], ['Manufacturer', 'Order Year'], ['Model', 'Manufacturer'], ['Fleet Series', 'Order Year'], ['Powertrain', 'Order Year']]\n",
            "Number of Transactions sent to the Algorithm:  10\n"
          ]
        }
      ]
    },
    {
      "cell_type": "code",
      "source": [
        "# Create an instance of the ECLAT algorithm with verbose mode enabled\n",
        "eclat_instance = ECLAT(data=df_transactions, verbose=True)\n",
        "# Fit the ECLAT algorithm to find frequent itemsets with a minimum support of 0.05\n",
        "frequent_itemsets = eclat_instance.fit(min_support=0.05)\n",
        "\n",
        "# Print the frequent itemsets\n",
        "print(\"Frequent Itemsets:\")\n",
        "print(frequent_itemsets[0])\n",
        "\n",
        "# Extract support values for the frequent itemsets and sorting in decsending order of support\n",
        "support_values = frequent_itemsets[1]\n",
        "sorted_support_values = dict(sorted(support_values.items(), key=lambda item: item[1], reverse=True))\n",
        "\n",
        "# Print the sorted support values\n",
        "print(\"Support values: \")\n",
        "print(sorted_support_values)"
      ],
      "metadata": {
        "colab": {
          "base_uri": "https://localhost:8080/"
        },
        "id": "yQQ_5TkSxoKa",
        "outputId": "45a65f33-2b9d-40ec-fe68-7a2187f369d2"
      },
      "execution_count": 3,
      "outputs": [
        {
          "output_type": "stream",
          "name": "stderr",
          "text": [
            "100%|██████████| 12/12 [00:00<00:00, 664.26it/s]\n",
            "100%|██████████| 12/12 [00:00<00:00, 78520.51it/s]\n",
            "100%|██████████| 12/12 [00:00<00:00, 850.76it/s]\n"
          ]
        },
        {
          "output_type": "stream",
          "name": "stdout",
          "text": [
            "Combination 1 by 1\n"
          ]
        },
        {
          "output_type": "stream",
          "name": "stderr",
          "text": [
            "12it [00:00, 126.55it/s]\n"
          ]
        },
        {
          "output_type": "stream",
          "name": "stdout",
          "text": [
            "Combination 2 by 2\n"
          ]
        },
        {
          "output_type": "stream",
          "name": "stderr",
          "text": [
            "66it [00:00, 191.84it/s]\n"
          ]
        },
        {
          "output_type": "stream",
          "name": "stdout",
          "text": [
            "Combination 3 by 3\n"
          ]
        },
        {
          "output_type": "stream",
          "name": "stderr",
          "text": [
            "220it [00:00, 240.26it/s]"
          ]
        },
        {
          "output_type": "stream",
          "name": "stdout",
          "text": [
            "Frequent Itemsets:\n",
            "{'State/territory': [2, 3], 'Model': [7], 'Current slogan': [0], 'Text/background colour': [3], 'Fleet Series': [4, 5, 8], 'Format': [2], 'Fuel Propulsion': [4, 5], 'Notes': [0, 1], 'Manufacturer': [6, 7], 'Powertrain': [9], 'Order Year': [6, 8, 9], 'Current series': [1], 'State/territory & Text/background colour': [3], 'State/territory & Format': [2], 'Model & Manufacturer': [7], 'Current slogan & Notes': [0], 'Fleet Series & Fuel Propulsion': [4, 5], 'Fleet Series & Order Year': [8], 'Notes & Current series': [1], 'Manufacturer & Order Year': [6], 'Powertrain & Order Year': [9]}\n",
            "Support values: \n",
            "{'Fleet Series': 0.3, 'Order Year': 0.3, 'State/territory': 0.2, 'Fuel Propulsion': 0.2, 'Notes': 0.2, 'Manufacturer': 0.2, 'Fleet Series & Fuel Propulsion': 0.2, 'Model': 0.1, 'Current slogan': 0.1, 'Text/background colour': 0.1, 'Format': 0.1, 'Powertrain': 0.1, 'Current series': 0.1, 'State/territory & Text/background colour': 0.1, 'State/territory & Format': 0.1, 'Model & Manufacturer': 0.1, 'Current slogan & Notes': 0.1, 'Fleet Series & Order Year': 0.1, 'Notes & Current series': 0.1, 'Manufacturer & Order Year': 0.1, 'Powertrain & Order Year': 0.1}\n"
          ]
        },
        {
          "output_type": "stream",
          "name": "stderr",
          "text": [
            "\n"
          ]
        }
      ]
    },
    {
      "cell_type": "code",
      "source": [
        "# Define a function to extract column names from a group of SQL queries\n",
        "def q_trans(qs):\n",
        "  column_g = []\n",
        "  for query in qs:\n",
        "    column_names = extract_column_names(query)\n",
        "    #print(column_names)\n",
        "    for nam in column_names:\n",
        "      column_g.append(nam)\n",
        "  return column_g\n",
        "\n",
        "# Initialize an empty list to store group transactions\n",
        "group_transactions = []\n",
        "\n",
        "# Calculate the number of queries\n",
        "q_len = len(queries)\n",
        "\n",
        "# Process queries in batches of 5\n",
        "for i in range(0,q_len-4,5):\n",
        "  q_set = queries[i:i+5]\n",
        "  col_grp = q_trans(q_set)\n",
        "  group_transactions.append(col_grp)\n",
        "\n",
        "# Print the group transactions\n",
        "print(group_transactions)\n",
        "print(\"Number of Transactions sent to the Algorithm: \", len(group_transactions))\n",
        "\n",
        "# Create a DataFrame from the group transactions\n",
        "df_transactions = pd.DataFrame(group_transactions)\n"
      ],
      "metadata": {
        "colab": {
          "base_uri": "https://localhost:8080/"
        },
        "id": "4mkfugKrSWJ8",
        "outputId": "54319161-219e-4ca3-c1d7-5b32a7dfe4a1"
      },
      "execution_count": 4,
      "outputs": [
        {
          "output_type": "stream",
          "name": "stdout",
          "text": [
            "[['Current slogan', 'Notes', 'Current series', 'Notes', 'State/territory', 'Format', 'State/territory', 'Text/background colour', 'Fleet Series', 'Fuel Propulsion'], ['Fleet Series', 'Fuel Propulsion', 'Manufacturer', 'Order Year', 'Model', 'Manufacturer', 'Fleet Series', 'Order Year', 'Powertrain', 'Order Year']]\n",
            "Number of Transactions sent to the Algorithm:  2\n"
          ]
        }
      ]
    },
    {
      "cell_type": "code",
      "source": [
        "# Create an instance of the ECLAT algorithm with verbose mode enabled\n",
        "eclat_instance = ECLAT(data=df_transactions, verbose=True)\n",
        "frequent_itemsets = eclat_instance.fit(min_support=0.05)\n",
        "\n",
        "# Fit the ECLAT algorithm to find frequent itemsets with a minimum support of 0.05\n",
        "print(\"Frequent Itemsets:\")\n",
        "print(frequent_itemsets[0])\n",
        "\n",
        "# Extract support values for the frequent itemsets and sorting in decsending order of support\n",
        "support_values = frequent_itemsets[1]\n",
        "sorted_support_values = dict(sorted(support_values.items(), key=lambda item: item[1], reverse=True))\n",
        "\n",
        "# Print the sorted support values\n",
        "print(\"Support values: \")\n",
        "print(sorted_support_values)"
      ],
      "metadata": {
        "colab": {
          "base_uri": "https://localhost:8080/"
        },
        "id": "BF9pO3dk-9B_",
        "outputId": "605967cd-e5bd-4d19-c2b2-f1960a25630a"
      },
      "execution_count": 5,
      "outputs": [
        {
          "output_type": "stream",
          "name": "stderr",
          "text": [
            "100%|██████████| 12/12 [00:00<00:00, 357.17it/s]\n",
            "100%|██████████| 12/12 [00:00<00:00, 112347.43it/s]\n",
            "100%|██████████| 12/12 [00:00<00:00, 1682.94it/s]\n"
          ]
        },
        {
          "output_type": "stream",
          "name": "stdout",
          "text": [
            "Combination 1 by 1\n"
          ]
        },
        {
          "output_type": "stream",
          "name": "stderr",
          "text": [
            "12it [00:00, 207.10it/s]\n"
          ]
        },
        {
          "output_type": "stream",
          "name": "stdout",
          "text": [
            "Combination 2 by 2\n"
          ]
        },
        {
          "output_type": "stream",
          "name": "stderr",
          "text": [
            "66it [00:00, 207.12it/s]\n"
          ]
        },
        {
          "output_type": "stream",
          "name": "stdout",
          "text": [
            "Combination 3 by 3\n"
          ]
        },
        {
          "output_type": "stream",
          "name": "stderr",
          "text": [
            "220it [00:00, 226.41it/s]"
          ]
        },
        {
          "output_type": "stream",
          "name": "stdout",
          "text": [
            "Frequent Itemsets:\n",
            "{'State/territory': [0], 'Model': [1], 'Current slogan': [0], 'Text/background colour': [0], 'Fleet Series': [0, 1], 'Format': [0], 'Fuel Propulsion': [0, 1], 'Notes': [0], 'Manufacturer': [1], 'Order Year': [1], 'Powertrain': [1], 'Current series': [0], 'State/territory & Current slogan': [0], 'State/territory & Text/background colour': [0], 'State/territory & Fleet Series': [0], 'State/territory & Format': [0], 'State/territory & Fuel Propulsion': [0], 'State/territory & Notes': [0], 'State/territory & Current series': [0], 'Model & Fleet Series': [1], 'Model & Fuel Propulsion': [1], 'Model & Manufacturer': [1], 'Model & Order Year': [1], 'Model & Powertrain': [1], 'Current slogan & Text/background colour': [0], 'Current slogan & Fleet Series': [0], 'Current slogan & Format': [0], 'Current slogan & Fuel Propulsion': [0], 'Current slogan & Notes': [0], 'Current slogan & Current series': [0], 'Text/background colour & Fleet Series': [0], 'Text/background colour & Format': [0], 'Text/background colour & Fuel Propulsion': [0], 'Text/background colour & Notes': [0], 'Text/background colour & Current series': [0], 'Fleet Series & Format': [0], 'Fleet Series & Fuel Propulsion': [0, 1], 'Fleet Series & Notes': [0], 'Fleet Series & Manufacturer': [1], 'Fleet Series & Order Year': [1], 'Fleet Series & Powertrain': [1], 'Fleet Series & Current series': [0], 'Format & Fuel Propulsion': [0], 'Format & Notes': [0], 'Format & Current series': [0], 'Fuel Propulsion & Notes': [0], 'Fuel Propulsion & Manufacturer': [1], 'Fuel Propulsion & Order Year': [1], 'Fuel Propulsion & Powertrain': [1], 'Fuel Propulsion & Current series': [0], 'Notes & Current series': [0], 'Manufacturer & Order Year': [1], 'Manufacturer & Powertrain': [1], 'Order Year & Powertrain': [1], 'State/territory & Current slogan & Text/background colour': [0], 'State/territory & Current slogan & Fleet Series': [0], 'State/territory & Current slogan & Format': [0], 'State/territory & Current slogan & Fuel Propulsion': [0], 'State/territory & Current slogan & Notes': [0], 'State/territory & Current slogan & Current series': [0], 'State/territory & Text/background colour & Fleet Series': [0], 'State/territory & Text/background colour & Format': [0], 'State/territory & Text/background colour & Fuel Propulsion': [0], 'State/territory & Text/background colour & Notes': [0], 'State/territory & Text/background colour & Current series': [0], 'State/territory & Fleet Series & Format': [0], 'State/territory & Fleet Series & Fuel Propulsion': [0], 'State/territory & Fleet Series & Notes': [0], 'State/territory & Fleet Series & Current series': [0], 'State/territory & Format & Fuel Propulsion': [0], 'State/territory & Format & Notes': [0], 'State/territory & Format & Current series': [0], 'State/territory & Fuel Propulsion & Notes': [0], 'State/territory & Fuel Propulsion & Current series': [0], 'State/territory & Notes & Current series': [0], 'Model & Fleet Series & Fuel Propulsion': [1], 'Model & Fleet Series & Manufacturer': [1], 'Model & Fleet Series & Order Year': [1], 'Model & Fleet Series & Powertrain': [1], 'Model & Fuel Propulsion & Manufacturer': [1], 'Model & Fuel Propulsion & Order Year': [1], 'Model & Fuel Propulsion & Powertrain': [1], 'Model & Manufacturer & Order Year': [1], 'Model & Manufacturer & Powertrain': [1], 'Model & Order Year & Powertrain': [1], 'Current slogan & Text/background colour & Fleet Series': [0], 'Current slogan & Text/background colour & Format': [0], 'Current slogan & Text/background colour & Fuel Propulsion': [0], 'Current slogan & Text/background colour & Notes': [0], 'Current slogan & Text/background colour & Current series': [0], 'Current slogan & Fleet Series & Format': [0], 'Current slogan & Fleet Series & Fuel Propulsion': [0], 'Current slogan & Fleet Series & Notes': [0], 'Current slogan & Fleet Series & Current series': [0], 'Current slogan & Format & Fuel Propulsion': [0], 'Current slogan & Format & Notes': [0], 'Current slogan & Format & Current series': [0], 'Current slogan & Fuel Propulsion & Notes': [0], 'Current slogan & Fuel Propulsion & Current series': [0], 'Current slogan & Notes & Current series': [0], 'Text/background colour & Fleet Series & Format': [0], 'Text/background colour & Fleet Series & Fuel Propulsion': [0], 'Text/background colour & Fleet Series & Notes': [0], 'Text/background colour & Fleet Series & Current series': [0], 'Text/background colour & Format & Fuel Propulsion': [0], 'Text/background colour & Format & Notes': [0], 'Text/background colour & Format & Current series': [0], 'Text/background colour & Fuel Propulsion & Notes': [0], 'Text/background colour & Fuel Propulsion & Current series': [0], 'Text/background colour & Notes & Current series': [0], 'Fleet Series & Format & Fuel Propulsion': [0], 'Fleet Series & Format & Notes': [0], 'Fleet Series & Format & Current series': [0], 'Fleet Series & Fuel Propulsion & Notes': [0], 'Fleet Series & Fuel Propulsion & Manufacturer': [1], 'Fleet Series & Fuel Propulsion & Order Year': [1], 'Fleet Series & Fuel Propulsion & Powertrain': [1], 'Fleet Series & Fuel Propulsion & Current series': [0], 'Fleet Series & Notes & Current series': [0], 'Fleet Series & Manufacturer & Order Year': [1], 'Fleet Series & Manufacturer & Powertrain': [1], 'Fleet Series & Order Year & Powertrain': [1], 'Format & Fuel Propulsion & Notes': [0], 'Format & Fuel Propulsion & Current series': [0], 'Format & Notes & Current series': [0], 'Fuel Propulsion & Notes & Current series': [0], 'Fuel Propulsion & Manufacturer & Order Year': [1], 'Fuel Propulsion & Manufacturer & Powertrain': [1], 'Fuel Propulsion & Order Year & Powertrain': [1], 'Manufacturer & Order Year & Powertrain': [1]}\n",
            "Support values: \n",
            "{'Fleet Series': 1.0, 'Fuel Propulsion': 1.0, 'Fleet Series & Fuel Propulsion': 1.0, 'State/territory': 0.5, 'Model': 0.5, 'Current slogan': 0.5, 'Text/background colour': 0.5, 'Format': 0.5, 'Notes': 0.5, 'Manufacturer': 0.5, 'Order Year': 0.5, 'Powertrain': 0.5, 'Current series': 0.5, 'State/territory & Current slogan': 0.5, 'State/territory & Text/background colour': 0.5, 'State/territory & Fleet Series': 0.5, 'State/territory & Format': 0.5, 'State/territory & Fuel Propulsion': 0.5, 'State/territory & Notes': 0.5, 'State/territory & Current series': 0.5, 'Model & Fleet Series': 0.5, 'Model & Fuel Propulsion': 0.5, 'Model & Manufacturer': 0.5, 'Model & Order Year': 0.5, 'Model & Powertrain': 0.5, 'Current slogan & Text/background colour': 0.5, 'Current slogan & Fleet Series': 0.5, 'Current slogan & Format': 0.5, 'Current slogan & Fuel Propulsion': 0.5, 'Current slogan & Notes': 0.5, 'Current slogan & Current series': 0.5, 'Text/background colour & Fleet Series': 0.5, 'Text/background colour & Format': 0.5, 'Text/background colour & Fuel Propulsion': 0.5, 'Text/background colour & Notes': 0.5, 'Text/background colour & Current series': 0.5, 'Fleet Series & Format': 0.5, 'Fleet Series & Notes': 0.5, 'Fleet Series & Manufacturer': 0.5, 'Fleet Series & Order Year': 0.5, 'Fleet Series & Powertrain': 0.5, 'Fleet Series & Current series': 0.5, 'Format & Fuel Propulsion': 0.5, 'Format & Notes': 0.5, 'Format & Current series': 0.5, 'Fuel Propulsion & Notes': 0.5, 'Fuel Propulsion & Manufacturer': 0.5, 'Fuel Propulsion & Order Year': 0.5, 'Fuel Propulsion & Powertrain': 0.5, 'Fuel Propulsion & Current series': 0.5, 'Notes & Current series': 0.5, 'Manufacturer & Order Year': 0.5, 'Manufacturer & Powertrain': 0.5, 'Order Year & Powertrain': 0.5, 'State/territory & Current slogan & Text/background colour': 0.5, 'State/territory & Current slogan & Fleet Series': 0.5, 'State/territory & Current slogan & Format': 0.5, 'State/territory & Current slogan & Fuel Propulsion': 0.5, 'State/territory & Current slogan & Notes': 0.5, 'State/territory & Current slogan & Current series': 0.5, 'State/territory & Text/background colour & Fleet Series': 0.5, 'State/territory & Text/background colour & Format': 0.5, 'State/territory & Text/background colour & Fuel Propulsion': 0.5, 'State/territory & Text/background colour & Notes': 0.5, 'State/territory & Text/background colour & Current series': 0.5, 'State/territory & Fleet Series & Format': 0.5, 'State/territory & Fleet Series & Fuel Propulsion': 0.5, 'State/territory & Fleet Series & Notes': 0.5, 'State/territory & Fleet Series & Current series': 0.5, 'State/territory & Format & Fuel Propulsion': 0.5, 'State/territory & Format & Notes': 0.5, 'State/territory & Format & Current series': 0.5, 'State/territory & Fuel Propulsion & Notes': 0.5, 'State/territory & Fuel Propulsion & Current series': 0.5, 'State/territory & Notes & Current series': 0.5, 'Model & Fleet Series & Fuel Propulsion': 0.5, 'Model & Fleet Series & Manufacturer': 0.5, 'Model & Fleet Series & Order Year': 0.5, 'Model & Fleet Series & Powertrain': 0.5, 'Model & Fuel Propulsion & Manufacturer': 0.5, 'Model & Fuel Propulsion & Order Year': 0.5, 'Model & Fuel Propulsion & Powertrain': 0.5, 'Model & Manufacturer & Order Year': 0.5, 'Model & Manufacturer & Powertrain': 0.5, 'Model & Order Year & Powertrain': 0.5, 'Current slogan & Text/background colour & Fleet Series': 0.5, 'Current slogan & Text/background colour & Format': 0.5, 'Current slogan & Text/background colour & Fuel Propulsion': 0.5, 'Current slogan & Text/background colour & Notes': 0.5, 'Current slogan & Text/background colour & Current series': 0.5, 'Current slogan & Fleet Series & Format': 0.5, 'Current slogan & Fleet Series & Fuel Propulsion': 0.5, 'Current slogan & Fleet Series & Notes': 0.5, 'Current slogan & Fleet Series & Current series': 0.5, 'Current slogan & Format & Fuel Propulsion': 0.5, 'Current slogan & Format & Notes': 0.5, 'Current slogan & Format & Current series': 0.5, 'Current slogan & Fuel Propulsion & Notes': 0.5, 'Current slogan & Fuel Propulsion & Current series': 0.5, 'Current slogan & Notes & Current series': 0.5, 'Text/background colour & Fleet Series & Format': 0.5, 'Text/background colour & Fleet Series & Fuel Propulsion': 0.5, 'Text/background colour & Fleet Series & Notes': 0.5, 'Text/background colour & Fleet Series & Current series': 0.5, 'Text/background colour & Format & Fuel Propulsion': 0.5, 'Text/background colour & Format & Notes': 0.5, 'Text/background colour & Format & Current series': 0.5, 'Text/background colour & Fuel Propulsion & Notes': 0.5, 'Text/background colour & Fuel Propulsion & Current series': 0.5, 'Text/background colour & Notes & Current series': 0.5, 'Fleet Series & Format & Fuel Propulsion': 0.5, 'Fleet Series & Format & Notes': 0.5, 'Fleet Series & Format & Current series': 0.5, 'Fleet Series & Fuel Propulsion & Notes': 0.5, 'Fleet Series & Fuel Propulsion & Manufacturer': 0.5, 'Fleet Series & Fuel Propulsion & Order Year': 0.5, 'Fleet Series & Fuel Propulsion & Powertrain': 0.5, 'Fleet Series & Fuel Propulsion & Current series': 0.5, 'Fleet Series & Notes & Current series': 0.5, 'Fleet Series & Manufacturer & Order Year': 0.5, 'Fleet Series & Manufacturer & Powertrain': 0.5, 'Fleet Series & Order Year & Powertrain': 0.5, 'Format & Fuel Propulsion & Notes': 0.5, 'Format & Fuel Propulsion & Current series': 0.5, 'Format & Notes & Current series': 0.5, 'Fuel Propulsion & Notes & Current series': 0.5, 'Fuel Propulsion & Manufacturer & Order Year': 0.5, 'Fuel Propulsion & Manufacturer & Powertrain': 0.5, 'Fuel Propulsion & Order Year & Powertrain': 0.5, 'Manufacturer & Order Year & Powertrain': 0.5}\n"
          ]
        },
        {
          "output_type": "stream",
          "name": "stderr",
          "text": [
            "\n"
          ]
        }
      ]
    }
  ]
}